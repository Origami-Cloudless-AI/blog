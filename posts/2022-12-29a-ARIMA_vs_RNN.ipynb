{
 "cells": [
  {
   "cell_type": "raw",
   "id": "ca75ed9c-360e-4386-9aa3-360269a47d3c",
   "metadata": {},
   "source": [
    "---\n",
    "title: \"ARIMA vs RNN in time series\"\n",
    "author: \"Hiroshi Doyu\"\n",
    "date: \"2022-12-29\"\n",
    "categories: [UseCase, code, analysis]\n",
    "format: \n",
    "  html:\n",
    "    code-fold: true\n",
    "    toc: true\n",
    "jupyter: python3\n",
    "---"
   ]
  },
  {
   "cell_type": "markdown",
   "id": "41f09d75-001d-4711-b4b2-8cf1b2b610bd",
   "metadata": {},
   "source": [
    "## ARIMA (Autoregressive Integrated Moving Average)\n",
    "ARIMA is a statistical method for modeling and forecasting time series data. It is based on the assumption that the underlying process generating the data is a stationary process, meaning that the statistical properties of the data do not change over time. ARIMA models are defined by three parameters: the autoregressive (AR) term, the differencing (I) term, and the moving average (MA) term. These parameters determine the behavior of the model and can be estimated from the data using maximum likelihood estimation or another optimization method."
   ]
  },
  {
   "cell_type": "markdown",
   "id": "1614cb91-9fd5-4198-96f9-c1ec43f50432",
   "metadata": {},
   "source": [
    "## RNN (Recurrent Neural Network)\n",
    "RNN (Recurrent Neural Network) is a type of neural network that is particularly well-suited for modeling time series data. RNNs have a \"memory\" component, which allows them to incorporate information from previous time steps when making predictions. This makes them well-suited for tasks such as language translation, where understanding the context of a word in a sentence requires considering the words that came before it. RNNs can be trained using a variety of optimization algorithms, such as stochastic gradient descent or Adam."
   ]
  },
  {
   "cell_type": "markdown",
   "id": "f8fd331e-9049-4af8-a129-97f74f0b2ead",
   "metadata": {},
   "source": [
    "## ARIMA vs RNN\n",
    "There are several key differences between ARIMA and RNN models:\n",
    "\n",
    "ARIMA models are based on statistical assumptions about the data, whereas RNN models are based on a flexible, non-linear function approximator (the neural network).\n",
    "ARIMA models are generally easier to interpret and understand, since they are based on explicit mathematical equations. RNN models, on the other hand, are more difficult to interpret because they are based on complex neural network architectures.\n",
    "ARIMA models are generally faster to train and predict with, since they are based on simple linear equations. RNN models can be more computationally intensive to train and predict with, especially for large time series datasets.\n",
    "RNN models have the ability to incorporate information from previous time steps, which makes them well-suited for tasks such as language translation. ARIMA models do not have this capability and are limited to modeling the relationships between the current time step and past time steps.\n",
    "In summary, ARIMA and RNN models are both useful tools for modeling and forecasting time series data, but they have different strengths and limitations. ARIMA models are based on statistical assumptions and are generally easier to interpret, but they are limited in their ability to incorporate information from previous time steps. RNN models are based on a flexible function approximator and are able to incorporate information from previous time steps, but they can be more difficult to interpret and are computationally intensive to train and predict with."
   ]
  }
 ],
 "metadata": {
  "kernelspec": {
   "display_name": "Python 3 (ipykernel)",
   "language": "python",
   "name": "python3"
  },
  "language_info": {
   "codemirror_mode": {
    "name": "ipython",
    "version": 3
   },
   "file_extension": ".py",
   "mimetype": "text/x-python",
   "name": "python",
   "nbconvert_exporter": "python",
   "pygments_lexer": "ipython3",
   "version": "3.9.13"
  }
 },
 "nbformat": 4,
 "nbformat_minor": 5
}
